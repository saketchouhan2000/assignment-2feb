{
 "cells": [
  {
   "cell_type": "code",
   "execution_count": 1,
   "id": "3e54410d-480d-4d77-9f07-1b2502a7821c",
   "metadata": {},
   "outputs": [],
   "source": [
    "# Q1. Explain with an example each when to use a for loop and a while loop."
   ]
  },
  {
   "cell_type": "code",
   "execution_count": 2,
   "id": "67d6204c-a081-4348-a6c1-d24bf874dfe5",
   "metadata": {},
   "outputs": [],
   "source": [
    "# Ans when we have to repeat a set till a specific no. of time at that time we use for loop \n",
    "# For example we want product of first 20 natural no."
   ]
  },
  {
   "cell_type": "code",
   "execution_count": 3,
   "id": "e7bc4211-d5ad-4635-8286-8e3b842cebba",
   "metadata": {},
   "outputs": [],
   "source": [
    "l=list(range(1,21,1))"
   ]
  },
  {
   "cell_type": "code",
   "execution_count": 4,
   "id": "24c4fe18-6abe-4601-b632-2254176c716e",
   "metadata": {},
   "outputs": [
    {
     "data": {
      "text/plain": [
       "2432902008176640000"
      ]
     },
     "execution_count": 4,
     "metadata": {},
     "output_type": "execute_result"
    }
   ],
   "source": [
    "result=1\n",
    "for i in l:\n",
    "    result=result*i\n",
    "result"
   ]
  },
  {
   "cell_type": "code",
   "execution_count": 5,
   "id": "7c0bf219-cc97-4b6b-a5ff-55aa89aa4d9b",
   "metadata": {},
   "outputs": [],
   "source": [
    "# when we want to repeat a set till the specified condition is true at tha time we use while loop\n",
    "# For example we want to write table of 3 "
   ]
  },
  {
   "cell_type": "code",
   "execution_count": 6,
   "id": "98c77f78-a998-4a95-86b8-361fd74a44d7",
   "metadata": {},
   "outputs": [
    {
     "name": "stdin",
     "output_type": "stream",
     "text": [
      "enter your number 3\n"
     ]
    },
    {
     "name": "stdout",
     "output_type": "stream",
     "text": [
      "3\n",
      "6\n",
      "9\n",
      "12\n",
      "15\n",
      "18\n",
      "21\n",
      "24\n",
      "27\n",
      "30\n"
     ]
    }
   ],
   "source": [
    "n=int(input(\"enter your number\"))\n",
    "i=1\n",
    "while i <=10:\n",
    "    result=n*i\n",
    "    print(result)\n",
    "    i=i+1\n",
    "    "
   ]
  },
  {
   "cell_type": "code",
   "execution_count": 7,
   "id": "f6d57c1e-2e81-4d2c-8a90-3df4b6598a17",
   "metadata": {},
   "outputs": [],
   "source": [
    "# Q2. Write a python program to print the sum and product of the first 10 natural numbers using for\n",
    "# and while loop."
   ]
  },
  {
   "cell_type": "code",
   "execution_count": 8,
   "id": "74033c01-baaa-4e2c-a7ae-72b8d3dbc8bd",
   "metadata": {},
   "outputs": [],
   "source": [
    "# Ans\n",
    "l1=list(range(1,11,1))"
   ]
  },
  {
   "cell_type": "code",
   "execution_count": 9,
   "id": "68d72718-ed74-4ee3-bc95-b95a717cf2ec",
   "metadata": {},
   "outputs": [
    {
     "data": {
      "text/plain": [
       "55"
      ]
     },
     "execution_count": 9,
     "metadata": {},
     "output_type": "execute_result"
    }
   ],
   "source": [
    "result=0\n",
    "for i in l1:\n",
    "    result=result+i\n",
    "result"
   ]
  },
  {
   "cell_type": "code",
   "execution_count": 10,
   "id": "7465960b-6570-459b-965f-0f986f588dc7",
   "metadata": {},
   "outputs": [
    {
     "data": {
      "text/plain": [
       "3628800"
      ]
     },
     "execution_count": 10,
     "metadata": {},
     "output_type": "execute_result"
    }
   ],
   "source": [
    "i=1\n",
    "result=1\n",
    "while i<=10:\n",
    "    result=i*result\n",
    "    i=i+1\n",
    "result"
   ]
  },
  {
   "cell_type": "code",
   "execution_count": 11,
   "id": "11c738aa-61ad-42cc-8f0b-e1d5ef8a7771",
   "metadata": {},
   "outputs": [],
   "source": [
    "# Q3. Create a python program to compute the electricity bill for a household.\n",
    "    \n",
    "# The per-unit charges in rupees are as follows: For the first 100 units, the user will be charged Rs. 4.5 per\n",
    "# unit, for the next 100 units, the user will be charged Rs. 6 per unit, and for the next 100 units, the user will\n",
    "# be charged Rs. 10 per unit, After 300 units and above the user will be charged Rs. 20 per unit.\n",
    "# You are required to take the units of electricity consumed in a month from the user as input.\n",
    "# Your program must pass this test case: when the unit of electricity consumed by the user in a month is\n",
    "# 310, the total electricity bill should be 2250."
   ]
  },
  {
   "cell_type": "code",
   "execution_count": 13,
   "id": "5aa0d002-d5d9-46c0-b4ae-eb9503974f9c",
   "metadata": {},
   "outputs": [],
   "source": [
    "def calculate_bill(units):\n",
    "    bill = 0\n",
    "    if units <= 100:\n",
    "        bill = units * 4.5\n",
    "    elif units <= 200:\n",
    "        bill = 100 * 4.5 + (units-100) * 6\n",
    "    elif units <= 300:\n",
    "        bill = 100 * 4.5 + 100 * 6 + (units-200) * 10\n",
    "    else:\n",
    "        bill = 100 * 4.5 + 100 * 6 + 100 * 10 + (units-300) * 20\n",
    "    return bill"
   ]
  },
  {
   "cell_type": "code",
   "execution_count": 14,
   "id": "32eb376c-ab2e-4c97-99f4-06c777e3abff",
   "metadata": {},
   "outputs": [
    {
     "data": {
      "text/plain": [
       "2250.0"
      ]
     },
     "execution_count": 14,
     "metadata": {},
     "output_type": "execute_result"
    }
   ],
   "source": [
    "calculate_bill(310)"
   ]
  },
  {
   "cell_type": "code",
   "execution_count": 15,
   "id": "2e0c8c17-d676-4772-bd17-5ee0551a177c",
   "metadata": {},
   "outputs": [],
   "source": [
    "# Q5. Write a program to filter count vowels in the below-given string.\n",
    "# string = \"I want to become a data scientist\""
   ]
  },
  {
   "cell_type": "code",
   "execution_count": 20,
   "id": "d5f0fda0-5fd0-4b9f-bfbd-c28ef348918f",
   "metadata": {},
   "outputs": [
    {
     "name": "stdout",
     "output_type": "stream",
     "text": [
      "12\n"
     ]
    }
   ],
   "source": [
    "# Ans\n",
    "string=\"I want to become a data scientist\"\n",
    "vowel=['a','e','i','o','u']\n",
    "lower_case=string.lower()\n",
    "count=0\n",
    "for i in lower_case:\n",
    "       if i in vowel:\n",
    "           count=count+1\n",
    "print(count)\n",
    "     "
   ]
  },
  {
   "cell_type": "code",
   "execution_count": null,
   "id": "1f5bb759-3d52-46e4-9d8f-c4d2a0b8879b",
   "metadata": {},
   "outputs": [],
   "source": []
  }
 ],
 "metadata": {
  "kernelspec": {
   "display_name": "Python 3 (ipykernel)",
   "language": "python",
   "name": "python3"
  },
  "language_info": {
   "codemirror_mode": {
    "name": "ipython",
    "version": 3
   },
   "file_extension": ".py",
   "mimetype": "text/x-python",
   "name": "python",
   "nbconvert_exporter": "python",
   "pygments_lexer": "ipython3",
   "version": "3.10.8"
  }
 },
 "nbformat": 4,
 "nbformat_minor": 5
}
